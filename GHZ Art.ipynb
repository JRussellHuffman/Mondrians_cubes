{
 "cells": [
  {
   "cell_type": "code",
   "execution_count": 5,
   "metadata": {},
   "outputs": [
    {
     "name": "stderr",
     "output_type": "stream",
     "text": [
      "ibmqfactory.load_account:WARNING:2021-10-02 20:25:39,391: Credentials are already in use. The existing account in the session will be replaced.\n"
     ]
    }
   ],
   "source": [
    "%matplotlib inline\n",
    "# Importing standard Qiskit libraries and configuring account\n",
    "from qiskit import QuantumCircuit, execute, Aer, IBMQ\n",
    "from qiskit.compiler import transpile, assemble\n",
    "from qiskit.tools.jupyter import *\n",
    "from qiskit.visualization import *\n",
    "from qiskit import BasicAer\n",
    "# Loading your IBM Q account(s)\n",
    "provider = IBMQ.load_account()\n",
    "provider = IBMQ.get_provider('ibm-q-internal', 'deployed', 'default')"
   ]
  },
  {
   "cell_type": "code",
   "execution_count": 2,
   "metadata": {},
   "outputs": [
    {
     "data": {
      "image/png": "[encoded data removed]",
      "text/plain": [
       "<Figure size 447.797x264.88 with 1 Axes>"
      ]
     },
     "execution_count": 2,
     "metadata": {},
     "output_type": "execute_result"
    }
   ],
   "source": [
    "from qiskit import(\n",
    "  QuantumCircuit,\n",
    "  execute,\n",
    "  Aer)\n",
    "\n",
    "circuit = QuantumCircuit(3, 3)\n",
    "\n",
    "circuit.h(0)\n",
    "circuit.cx(0, 1)\n",
    "circuit.cx(1, 2)\n",
    "circuit.measure([0,1,2], [0,1,2])\n",
    "\n",
    "circuit.draw()"
   ]
  },
  {
   "cell_type": "code",
   "execution_count": 8,
   "metadata": {},
   "outputs": [
    {
     "name": "stdout",
     "output_type": "stream",
     "text": [
      "['111', '000', '000', '000', '000', '011', '111', '111', '111', '111', '111', '000', '000', '111', '111', '000', '000', '111', '000', '111', '111', '000', '111', '111', '111', '000', '111', '000', '111', '000', '000', '000', '000', '000', '000', '111', '000', '000', '111', '000', '000', '000', '000', '111', '000', '000', '111', '000', '000', '111', '111', '000', '000', '000', '000', '111', '111', '000', '001', '111', '111', '000', '000', '000', '111', '000', '111', '111', '000', '001', '111', '000', '111', '000', '000', '111', '000', '111', '111', '000', '001', '111', '111', '111', '111', '101', '000', '000', '000', '000', '000', '000', '000', '111', '000', '000', '111', '000', '111', '000', '000', '111', '111', '000', '111', '111', '111', '111', '101', '000', '000', '111', '111', '111', '111', '110', '000', '000', '111', '111', '000', '111', '111', '000', '000', '000', '000', '111', '111', '111', '111', '000', '111', '000', '111', '000', '000', '000', '111', '011', '111', '000', '000', '111', '111', '111', '000', '000', '000', '111', '111', '111', '111', '000', '111', '111', '111', '000', '000', '000', '111', '000', '111', '000', '000', '111', '000', '111', '000', '111', '111', '111', '111', '111', '000', '000', '111', '111', '111', '110', '000', '111', '000', '110', '111', '000', '111', '000', '111', '000', '000', '111', '000', '000', '111', '000', '111', '000', '000', '101', '000', '111', '000', '000', '000', '111', '111', '111', '111', '000', '000', '000', '111', '000', '000', '111', '000', '000', '111', '000', '001', '111', '111', '000', '111', '111', '000', '000', '000', '000', '000', '000', '000', '000', '111', '000', '000', '000', '000', '111', '000', '000', '000', '000', '000', '000', '111', '111', '000', '000', '111', '000', '000', '000', '000', '000', '000', '000', '000', '000', '111', '000', '000', '111', '111', '000', '000', '111', '111', '111', '000', '000', '111', '000', '000', '111', '000', '101', '111', '001', '111', '111', '000', '111', '000', '000', '111', '111', '111', '000', '111', '111', '111', '011', '000', '000', '111', '000', '111', '111', '111', '111', '110', '111', '000', '111', '000', '111', '000', '111', '000', '000', '111', '011', '111', '111', '000', '000', '111', '111', '000', '111', '111', '000', '111', '111', '111', '101', '000', '111', '000', '000', '000', '111', '111', '111', '000', '000', '111', '000', '000', '000', '100', '000', '111', '111', '111', '000', '111', '000', '000', '000', '000', '111', '111', '000', '111', '000', '000', '111', '000', '000', '000', '111', '110', '000', '111', '000', '000', '000', '111', '000', '111', '111', '111', '111', '000', '111', '111', '000', '111', '110', '000', '000', '000', '000', '000', '111', '101', '111', '111', '111', '001', '000', '111', '111', '111', '111', '111', '000', '000', '111', '111', '101', '111', '000', '000', '111', '000', '111', '000', '011', '111', '000', '000', '111', '100', '000', '111', '111', '111', '111', '111', '000', '010', '111', '000', '000', '111', '000', '011', '000', '000', '000', '111', '000', '111', '111', '111', '111', '101', '111', '111', '000', '000', '111', '000', '000', '001', '000', '000', '111', '111', '111', '011', '111', '111', '000', '110', '000', '111', '111', '000', '111', '111', '000', '000', '000', '000', '000', '111', '000', '111', '111', '011', '111', '000', '000', '000', '111', '000', '000', '000', '111', '000', '000', '111', '000', '111', '111', '000', '111', '000', '000', '000', '111', '000', '111', '111', '000', '111', '111', '000', '111', '000', '111', '111', '111', '111', '111', '111', '111', '111', '111', '000', '000', '111', '111', '111', '111', '111', '111', '000', '000', '000', '000', '000', '000', '111', '000', '000', '111', '111', '100', '111', '111', '000', '101', '111', '111', '110', '111', '000', '001', '111', '100', '000', '111', '111', '000', '111', '000', '111', '111', '111', '111', '000', '000', '111', '111', '111', '000', '111', '111', '111', '000', '000', '000', '111', '111', '000', '111', '000', '000', '011', '011', '000', '100', '111', '000', '111', '000', '111', '111', '000', '000', '000', '100', '000', '111', '000', '101', '000', '000', '111', '000', '111', '000', '111', '000', '000', '111', '111', '000', '000', '000', '000', '000', '111', '000', '000', '000', '111', '111', '111', '111', '111', '111', '111', '000', '000', '111', '000', '000', '111', '111', '000', '000', '000', '000', '111', '000', '000', '111', '111', '111', '111', '000', '111', '111', '000', '111', '111', '111', '111', '111', '101', '111', '000', '110', '111', '111', '111', '000', '111', '111', '111', '000', '111', '111', '000', '111', '111', '000', '000', '000', '111', '101', '111', '111', '111', '111', '000', '111', '111', '111', '111', '111', '000', '000', '111', '111', '000', '111', '111', '000', '111', '101', '111', '111', '111', '111', '111', '111', '000', '100', '111', '111', '111', '111', '111', '111', '000', '000', '000', '111', '111', '000', '000', '111', '000', '000', '111', '111', '011', '000', '111', '111', '000', '111', '111', '111', '111', '111', '000', '101', '111', '111', '000', '000', '000', '111', '111', '111', '111', '000', '111', '111', '000', '011', '111', '000', '111', '101', '111', '011', '000', '111', '000', '001', '000', '111', '000', '111', '000', '111', '000', '111', '111', '111', '000', '111', '111', '111', '000', '111', '111', '000', '111', '111', '000', '000', '111', '000', '111', '111', '111', '111', '000', '111', '111', '000', '000', '110', '000', '000', '000', '111', '000', '111', '111', '000', '000', '111', '111', '111', '000', '111', '111', '000', '111', '000', '111', '111', '111', '000', '111', '111', '111', '001', '000', '000', '111', '111', '111', '000', '000', '111', '000', '001', '000', '000', '111', '000', '111', '000', '111', '000', '000', '000', '111', '111', '000', '111', '111', '101', '000', '111', '111', '111', '111', '111', '111', '000', '111', '000', '000', '000', '111', '111', '000', '111', '000', '111', '101', '111', '000', '000', '111', '000', '111', '111', '011', '000', '111', '111', '000', '000', '111', '000', '111', '111', '111', '111', '111', '111', '111', '110', '000', '111', '000', '011', '111', '111', '000', '000', '111', '111', '000', '111', '111', '111', '000', '111', '111', '111', '111', '111', '000', '000', '111', '111', '111', '000', '000', '111', '000', '000', '000', '011', '000', '000', '111', '111', '000', '000', '111', '111', '000', '000', '000', '110', '111', '000', '111', '000', '000', '111', '111', '111', '000', '010', '111', '111', '111', '110', '000', '111', '111', '111', '111', '111', '111', '000', '000', '111', '000', '000', '000', '000', '111', '111', '000', '000', '000', '111', '111', '111', '000', '111', '000', '111', '000', '111', '000', '000', '011', '000', '000', '111', '000', '111', '011', '111', '111', '010', '111', '111', '111', '111', '111', '111', '000', '000', '000', '111', '000', '000', '000', '000', '111', '111', '111', '000', '111', '111', '111', '000', '111', '111', '000', '000', '111', '111', '111', '111', '111', '111', '000', '111', '000', '000', '000', '000', '000', '111', '000', '000', '111', '111', '000', '000', '000', '111', '111', '000', '000', '011', '000', '000', '111', '111', '000', '000', '111', '000', '111', '111', '111', '111', '111', '111', '000', '000', '000', '000', '000', '000', '111', '000', '111', '111', '011', '111', '111', '111', '111', '000', '000', '111', '011', '000', '000', '000', '000', '000', '111', '101', '000', '111', '111', '111', '111', '111', '000', '000', '000', '111', '000', '111', '000', '000', '111', '111', '111', '000', '000', '111', '111', '111', '000', '000', '000', '000', '000', '000', '111', '111', '000', '000', '000', '000', '001', '000', '000', '111', '000', '111', '001', '111', '111', '111', '111', '111', '111', '111', '000', '000', '000', '000', '000', '000', '111', '000', '100', '111', '000', '101', '000', '111', '000', '111', '000', '000', '111', '000', '111', '000', '111', '111', '111', '000', '111', '011', '000', '000', '000', '000', '000', '000', '000', '000', '111', '000', '111', '000', '111', '000', '000', '000', '111', '111', '111', '000', '000', '111', '000', '100', '111', '111', '111', '111', '000', '111', '000', '000', '000', '000', '000', '111', '000', '000', '111', '000', '000', '111', '111', '000', '111', '111', '011', '111', '111', '111', '011', '111', '111', '111', '000', '111', '111', '000', '000', '000', '011', '111', '000', '111', '000', '000', '111', '000', '111', '111', '111', '111', '111', '101', '000', '111', '111', '111', '000', '000', '000', '000', '111', '111', '000', '111', '111', '000', '110', '000', '000', '011', '111', '111', '111', '111', '111', '000', '011', '000', '111', '000', '000', '000', '101', '000', '000', '000', '111', '000', '111', '000', '101', '000', '000', '000', '000', '111', '000', '111', '111', '111', '000', '000', '111', '000', '111', '000', '000', '000', '000', '010', '111', '000', '111', '000', '000', '000', '000', '111', '111', '111', '111', '110', '000', '111', '000', '000', '111', '111', '111', '000', '000', '000', '000', '111', '000', '000', '111', '111', '111', '000', '000', '000', '000', '111', '000', '111', '000', '101', '000', '111', '000', '111', '111', '111', '111', '111', '111', '111', '000', '111', '111', '000', '111', '111', '111', '000', '000', '111', '000', '000', '000', '111', '111', '111', '000', '111', '111', '000', '000', '000', '111', '000', '000', '111', '111', '000', '111', '000', '000', '011', '111', '111', '111', '000', '000', '000', '111', '000', '000', '000', '000', '000', '111', '111', '111', '000', '000', '000', '000', '000', '111', '000', '000', '000', '110', '111', '000', '111', '000', '000', '000', '000', '000', '111', '000', '000', '000', '101', '111', '000', '111', '111', '000', '000', '000', '000', '110', '000', '111', '000', '111', '111', '111', '111', '111', '000', '000', '111', '111', '000', '000', '111', '000', '111', '111', '111', '000', '111', '000', '000', '111', '000', '000', '000', '000', '111', '111', '111', '000', '000', '111', '111', '101', '111', '111', '111', '000', '101', '111', '111', '111', '111', '111', '111', '000', '111', '111', '111', '111', '111', '111', '101', '000', '111', '000', '000', '111', '000', '111', '111', '000', '000', '110', '000', '000', '000', '000', '000', '111', '111', '111', '000', '000', '000', '111', '000', '000', '000', '000', '000', '000', '000', '000', '111', '111', '000', '000', '000', '111', '000', '111', '000', '000', '111', '000', '000', '000', '000', '111', '111', '000', '111', '000', '000', '000', '111', '111', '111', '011', '111', '111', '000', '111', '000', '000', '000', '111', '000', '000', '111', '111', '111', '111', '000', '000', '111', '111', '000', '111', '111', '111', '000', '111', '111', '111', '001', '000', '011', '000', '000', '011', '111', '000', '111', '000', '100', '111', '000', '111', '111', '111', '111', '111', '111', '000', '111', '000', '111', '111', '111', '000', '000', '111', '000', '000', '000', '000', '000', '111', '111', '000', '111', '111', '000', '111', '101', '111', '101', '000', '000', '111', '111', '000', '000', '000', '000', '111', '000', '000', '111', '000', '111', '000', '111', '111', '000', '000', '000', '111', '000', '000', '111', '000', '111', '111', '000', '000', '111', '111', '111', '000', '111', '111', '111', '111', '111', '111', '111', '000', '000', '111', '111', '111', '000', '100', '111', '111', '000', '111', '111', '000', '000', '000', '000', '111', '111', '111', '000', '111', '111', '000', '000', '000', '000', '111', '111', '011', '000', '001', '111', '111', '111', '000', '000', '111', '111', '111', '000', '000', '000', '111', '000', '111', '000', '100', '111', '000', '000', '000', '000', '000', '111', '000', '111', '000', '000', '000', '000', '000', '000', '000', '000', '000', '000', '111', '000', '000', '000', '111', '111', '000', '111', '000', '111', '000', '000', '111', '111', '000', '111', '111', '111', '000', '000', '000', '000', '000', '000', '101', '000', '000', '000', '111', '111', '000', '111', '000', '111', '000', '000', '011', '000', '000', '111', '000', '000', '111', '000', '111', '111', '000', '111', '000', '111', '000', '111', '000', '000', '000', '111', '000', '111', '101', '000', '000', '000', '000', '000', '111', '000', '000', '011', '000', '000', '000', '000', '000', '111', '000', '111', '111', '111', '000', '111', '111', '000', '111', '000', '000', '000', '000', '111', '000', '000', '111', '111', '000', '111', '111', '111', '000', '000', '000', '000', '000', '111', '111', '111', '000', '111', '111', '000', '000', '111', '111', '000', '000', '000', '000', '000', '111', '111', '111', '000', '111', '111', '111', '111', '111', '111', '100', '111', '000', '111', '000', '111', '111', '111', '000', '111', '111', '111', '111', '111', '111', '000', '000', '111', '000', '000', '000', '111', '111', '111', '000', '111', '101', '000', '111', '000', '111', '000', '000', '000', '111', '111', '111', '000', '110', '000', '000', '111', '000', '111', '000', '101', '000', '000', '111', '000', '111', '111', '000', '000', '111', '111', '000', '111', '000', '111', '000', '000', '000', '111', '000', '000', '000', '000', '111', '000', '111', '000', '111', '111', '000', '000', '000', '111', '000', '000', '000', '111', '111', '111', '111', '000', '111', '111', '111', '000', '000', '000', '000', '000', '000', '111', '110', '101', '111', '000', '000', '111', '101', '000', '111', '000', '111', '000', '111', '000', '111', '111', '111', '111', '111', '000', '101', '000', '000', '111', '111', '111', '111', '000', '000', '111', '111', '000', '111', '011', '111', '111', '100', '000', '000', '111', '000', '000', '111', '111', '111', '111', '111', '000', '000', '000', '111', '111', '000', '111', '000', '111', '111', '011', '111', '000', '000', '000', '111', '000', '111', '111', '111', '111', '000', '111', '111', '111', '000', '000', '000', '000', '111', '011', '111', '000', '111', '000', '111', '000', '000', '000', '000', '000', '000', '111', '100', '111', '000', '000', '011', '000', '000', '000', '111', '000', '111', '000', '111', '111', '111', '000', '100', '000', '111', '111', '111', '111', '111', '111', '000', '000', '111', '000', '111', '111', '000', '111', '000', '111', '111', '111', '000', '000', '000', '000', '000', '000', '111', '111', '000', '111']\n"
     ]
    }
   ],
   "source": [
    "#pick a device to run on\n",
    "\n",
    "backend = provider.get_backend('ibmq_jakarta')\n",
    "# backend = BasicAer.get_backend('qasm_simulator')\n",
    "\n",
    "shots = 2048\n",
    "\n",
    "# Execute the circuit on the backend\n",
    "job = execute(circuit, backend, shots=shots, memory=True)\n",
    "\n",
    "# Grab results from the job\n",
    "result = job.result()\n",
    "\n",
    "#get individual shots\n",
    "memory = result.get_memory()\n",
    "\n",
    "# need an array to drop all the results into\n",
    "outputArray = []\n",
    "\n",
    "#convert results to int and drop into array\n",
    "for x in range(0, shots):\n",
    "    outputArray.append(memory[x])\n",
    "    \n",
    "print(outputArray)"
   ]
  },
  {
   "cell_type": "code",
   "execution_count": 4,
   "metadata": {},
   "outputs": [],
   "source": [
    "%%capture cap --no-stderr\n",
    "print(outputArray)"
   ]
  },
  {
   "cell_type": "code",
   "execution_count": 5,
   "metadata": {},
   "outputs": [],
   "source": [
    "with open('GHZ-jakarta.txt', 'w') as f:\n",
    "    f.write(cap.stdout)"
   ]
  },
  {
   "cell_type": "code",
   "execution_count": null,
   "metadata": {},
   "outputs": [],
   "source": []
  }
 ],
 "metadata": {
  "kernelspec": {
   "display_name": "Qiskit v0.30.1 (ipykernel)",
   "language": "python",
   "name": "python3"
  },
  "language_info": {
   "codemirror_mode": {
    "name": "ipython",
    "version": 3
   },
   "file_extension": ".py",
   "mimetype": "text/x-python",
   "name": "python",
   "nbconvert_exporter": "python",
   "pygments_lexer": "ipython3",
   "version": "3.8.10"
  },
  "widgets": {
   "application/vnd.jupyter.widget-state+json": {
    "state": {
     "033c95237d75480496caa00618eb0dbf": {
      "model_module": "@jupyter-widgets/base",
      "model_module_version": "1.2.0",
      "model_name": "LayoutModel",
      "state": {
       "width": "190px"
      }
     },
     "0a8cc13124a14cee93900e467a8e40fc": {
      "model_module": "@jupyter-widgets/controls",
      "model_module_version": "1.5.0",
      "model_name": "DescriptionStyleModel",
      "state": {
       "description_width": ""
      }
     },
     "0f8e48a1e83e40729c5d9469dfd15caf": {
      "model_module": "@jupyter-widgets/base",
      "model_module_version": "1.2.0",
      "model_name": "LayoutModel",
      "state": {
       "max_width": "700px",
       "min_width": "700px"
      }
     },
     "13095ac6d96b4f87a1150df5b3e5cee6": {
      "model_module": "@jupyter-widgets/controls",
      "model_module_version": "1.5.0",
      "model_name": "HTMLModel",
      "state": {
       "layout": "IPY_MODEL_5580f009e180433da99f3210f539a25a",
       "style": "IPY_MODEL_7b1e316128ea4e94a0e99e131b6514e7",
       "value": "job has successfully run"
      }
     },
     "17e4185dbdb74e29ac9d26e2d982e7f1": {
      "model_module": "@jupyter-widgets/base",
      "model_module_version": "1.2.0",
      "model_name": "LayoutModel",
      "state": {
       "width": "70px"
      }
     },
     "2b1d90dcdd0f442fb0909af46dca51a1": {
      "model_module": "@jupyter-widgets/controls",
      "model_module_version": "1.5.0",
      "model_name": "HTMLModel",
      "state": {
       "layout": "IPY_MODEL_94335cab5f6941f78f47a3d2165a1f5a",
       "style": "IPY_MODEL_fcb40c06e5254e0c9aaccb7e60152bde",
       "value": "<h5>Status</h5>"
      }
     },
     "2c67e4cb7d8c46b0a4fdb0a04fd890bd": {
      "model_module": "@jupyter-widgets/base",
      "model_module_version": "1.2.0",
      "model_name": "LayoutModel",
      "state": {
       "width": "190px"
      }
     },
     "30c55c88017a415585def6d6ad8caaea": {
      "model_module": "@jupyter-widgets/controls",
      "model_module_version": "1.5.0",
      "model_name": "ButtonStyleModel",
      "state": {
       "button_color": "white"
      }
     },
     "31b53df6eabc46cf9f249051e5f896c5": {
      "model_module": "@jupyter-widgets/controls",
      "model_module_version": "1.5.0",
      "model_name": "GridBoxModel",
      "state": {
       "children": [
        "IPY_MODEL_74e622b06e634bd4b2943fc8901498b7"
       ],
       "layout": "IPY_MODEL_86467c89cb684ae7b71e67819a893625"
      }
     },
     "3263e822df5546179aa78e6728b952c2": {
      "model_module": "@jupyter-widgets/base",
      "model_module_version": "1.2.0",
      "model_name": "LayoutModel",
      "state": {
       "width": "145px"
      }
     },
     "32b87110d27b4a61bbed4c7a5d6a57eb": {
      "model_module": "@jupyter-widgets/controls",
      "model_module_version": "1.5.0",
      "model_name": "DescriptionStyleModel",
      "state": {
       "description_width": ""
      }
     },
     "43eb8cc928f3458884cc02e8e64341d7": {
      "model_module": "@jupyter-widgets/controls",
      "model_module_version": "1.5.0",
      "model_name": "HTMLModel",
      "state": {
       "layout": "IPY_MODEL_a9f98c5656ed4729ada582bfe82bab9a",
       "style": "IPY_MODEL_32b87110d27b4a61bbed4c7a5d6a57eb",
       "value": "<h5>Message</h5>"
      }
     },
     "44c79d40c0574c21aaab8bf91b1085bd": {
      "model_module": "@jupyter-widgets/controls",
      "model_module_version": "1.5.0",
      "model_name": "HTMLModel",
      "state": {
       "layout": "IPY_MODEL_3263e822df5546179aa78e6728b952c2",
       "style": "IPY_MODEL_46eabb4d622e401fa3669c02d86f0800",
       "value": "<h5>Backend</h5>"
      }
     },
     "4657e0dc96d74f8d98d792eba76ff6a8": {
      "model_module": "@jupyter-widgets/controls",
      "model_module_version": "1.5.0",
      "model_name": "HTMLModel",
      "state": {
       "layout": "IPY_MODEL_033c95237d75480496caa00618eb0dbf",
       "style": "IPY_MODEL_6a1370730a7d4ef498dddd73916ad2a2",
       "value": "6158c056c9786603a808ec69"
      }
     },
     "46eabb4d622e401fa3669c02d86f0800": {
      "model_module": "@jupyter-widgets/controls",
      "model_module_version": "1.5.0",
      "model_name": "DescriptionStyleModel",
      "state": {
       "description_width": ""
      }
     },
     "5580f009e180433da99f3210f539a25a": {
      "model_module": "@jupyter-widgets/base",
      "model_module_version": "1.2.0",
      "model_name": "LayoutModel",
      "state": {
       "overflow_x": "scroll"
      }
     },
     "678ad96ef8df4703b3da39494cdea3b8": {
      "model_module": "@jupyter-widgets/base",
      "model_module_version": "1.2.0",
      "model_name": "LayoutModel",
      "state": {
       "width": "70px"
      }
     },
     "6a1370730a7d4ef498dddd73916ad2a2": {
      "model_module": "@jupyter-widgets/controls",
      "model_module_version": "1.5.0",
      "model_name": "DescriptionStyleModel",
      "state": {
       "description_width": ""
      }
     },
     "74e622b06e634bd4b2943fc8901498b7": {
      "model_module": "@jupyter-widgets/controls",
      "model_module_version": "1.5.0",
      "model_name": "ButtonModel",
      "state": {
       "button_style": "primary",
       "description": "Clear",
       "layout": "IPY_MODEL_b8b17b2bd4ed4d0da17c33e3d4dada52",
       "style": "IPY_MODEL_93a830963a784b9d904af8cebbf2cb7a"
      }
     },
     "7b1e316128ea4e94a0e99e131b6514e7": {
      "model_module": "@jupyter-widgets/controls",
      "model_module_version": "1.5.0",
      "model_name": "DescriptionStyleModel",
      "state": {
       "description_width": ""
      }
     },
     "7f739c70839b4c91a26aac624c813653": {
      "model_module": "@jupyter-widgets/controls",
      "model_module_version": "1.5.0",
      "model_name": "HTMLModel",
      "state": {
       "layout": "IPY_MODEL_2c67e4cb7d8c46b0a4fdb0a04fd890bd",
       "style": "IPY_MODEL_85040d8112cf4d5f8aa7412f56f0c418",
       "value": "<h5>Job ID</h5>"
      }
     },
     "85040d8112cf4d5f8aa7412f56f0c418": {
      "model_module": "@jupyter-widgets/controls",
      "model_module_version": "1.5.0",
      "model_name": "DescriptionStyleModel",
      "state": {
       "description_width": ""
      }
     },
     "86467c89cb684ae7b71e67819a893625": {
      "model_module": "@jupyter-widgets/base",
      "model_module_version": "1.2.0",
      "model_name": "LayoutModel",
      "state": {
       "grid_template_areas": "\n                                       \". . . . right \"\n                                        ",
       "grid_template_columns": "20% 20% 20% 20% 20%",
       "width": "100%"
      }
     },
     "93a830963a784b9d904af8cebbf2cb7a": {
      "model_module": "@jupyter-widgets/controls",
      "model_module_version": "1.5.0",
      "model_name": "ButtonStyleModel",
      "state": {}
     },
     "941effcf479343dcbf6533b5d343eedf": {
      "model_module": "@jupyter-widgets/base",
      "model_module_version": "1.2.0",
      "model_name": "LayoutModel",
      "state": {
       "margin": "0px 0px 10px 0px"
      }
     },
     "94335cab5f6941f78f47a3d2165a1f5a": {
      "model_module": "@jupyter-widgets/base",
      "model_module_version": "1.2.0",
      "model_name": "LayoutModel",
      "state": {
       "width": "95px"
      }
     },
     "952987ae10d84ce398290ea8fba1f323": {
      "model_module": "@jupyter-widgets/base",
      "model_module_version": "1.2.0",
      "model_name": "LayoutModel",
      "state": {
       "margin": "0px 5px 0px 0px",
       "width": "32px"
      }
     },
     "998dd32d6a884944879f75b5ca88e1b9": {
      "model_module": "@jupyter-widgets/controls",
      "model_module_version": "1.5.0",
      "model_name": "ButtonModel",
      "state": {
       "icon": "close",
       "layout": "IPY_MODEL_952987ae10d84ce398290ea8fba1f323",
       "style": "IPY_MODEL_30c55c88017a415585def6d6ad8caaea"
      }
     },
     "99b643721e7c40d7bd6ed266f03858ba": {
      "model_module": "@jupyter-widgets/controls",
      "model_module_version": "1.5.0",
      "model_name": "DescriptionStyleModel",
      "state": {
       "description_width": ""
      }
     },
     "9abdaffe697b4c1f90d9d5eb03ace443": {
      "model_module": "@jupyter-widgets/controls",
      "model_module_version": "1.5.0",
      "model_name": "HBoxModel",
      "state": {
       "children": [
        "IPY_MODEL_998dd32d6a884944879f75b5ca88e1b9",
        "IPY_MODEL_4657e0dc96d74f8d98d792eba76ff6a8",
        "IPY_MODEL_d78a35ec9c6748738f73d2ac7cc15057",
        "IPY_MODEL_db92270a6d7c4dcfaba4155defc7fa43",
        "IPY_MODEL_e0d08dce305d45c5af319e254c61d1ee",
        "IPY_MODEL_13095ac6d96b4f87a1150df5b3e5cee6"
       ],
       "layout": "IPY_MODEL_0f8e48a1e83e40729c5d9469dfd15caf"
      }
     },
     "9b1eedacb7094edd81f7b6a90df255f1": {
      "model_module": "@jupyter-widgets/controls",
      "model_module_version": "1.5.0",
      "model_name": "DescriptionStyleModel",
      "state": {
       "description_width": ""
      }
     },
     "9bcf832de66b48cfafd7dcd9f3dd7b62": {
      "model_module": "@jupyter-widgets/base",
      "model_module_version": "1.2.0",
      "model_name": "LayoutModel",
      "state": {
       "width": "145px"
      }
     },
     "a9f98c5656ed4729ada582bfe82bab9a": {
      "model_module": "@jupyter-widgets/base",
      "model_module_version": "1.2.0",
      "model_name": "LayoutModel",
      "state": {}
     },
     "b03c52f0e75f4519992d7190d4ca4ea4": {
      "model_module": "@jupyter-widgets/controls",
      "model_module_version": "1.5.0",
      "model_name": "HTMLModel",
      "state": {
       "layout": "IPY_MODEL_17e4185dbdb74e29ac9d26e2d982e7f1",
       "style": "IPY_MODEL_99b643721e7c40d7bd6ed266f03858ba",
       "value": "<h5>Queue</h5>"
      }
     },
     "b54c003f450c490db6d017da81d87f54": {
      "model_module": "@jupyter-widgets/base",
      "model_module_version": "1.2.0",
      "model_name": "LayoutModel",
      "state": {
       "width": "95px"
      }
     },
     "b8b17b2bd4ed4d0da17c33e3d4dada52": {
      "model_module": "@jupyter-widgets/base",
      "model_module_version": "1.2.0",
      "model_name": "LayoutModel",
      "state": {
       "grid_area": "right",
       "padding": "0px 0px 0px 0px",
       "width": "70px"
      }
     },
     "d0068be80a0d46ccb21f310c362f93d9": {
      "model_module": "@jupyter-widgets/base",
      "model_module_version": "1.2.0",
      "model_name": "LayoutModel",
      "state": {
       "margin": "0px 0px 0px 37px",
       "width": "600px"
      }
     },
     "d196206c42b941968a0b478650e05846": {
      "model_module": "@jupyter-widgets/controls",
      "model_module_version": "1.5.0",
      "model_name": "DescriptionStyleModel",
      "state": {
       "description_width": ""
      }
     },
     "d3b3d119d3a74ecbb4a6ab2e75638ac5": {
      "model_module": "@jupyter-widgets/controls",
      "model_module_version": "1.5.0",
      "model_name": "HBoxModel",
      "state": {
       "children": [
        "IPY_MODEL_7f739c70839b4c91a26aac624c813653",
        "IPY_MODEL_44c79d40c0574c21aaab8bf91b1085bd",
        "IPY_MODEL_2b1d90dcdd0f442fb0909af46dca51a1",
        "IPY_MODEL_b03c52f0e75f4519992d7190d4ca4ea4",
        "IPY_MODEL_43eb8cc928f3458884cc02e8e64341d7"
       ],
       "layout": "IPY_MODEL_d0068be80a0d46ccb21f310c362f93d9"
      }
     },
     "d76c273838c54aa68280e1e2302073d9": {
      "model_module": "@jupyter-widgets/controls",
      "model_module_version": "1.5.0",
      "model_name": "HTMLModel",
      "state": {
       "layout": "IPY_MODEL_941effcf479343dcbf6533b5d343eedf",
       "style": "IPY_MODEL_9b1eedacb7094edd81f7b6a90df255f1",
       "value": "<p style='font-family: IBM Plex Sans, Arial, Helvetica, sans-serif; font-size: 20px; font-weight: medium;'>Circuit Properties</p>"
      }
     },
     "d78a35ec9c6748738f73d2ac7cc15057": {
      "model_module": "@jupyter-widgets/controls",
      "model_module_version": "1.5.0",
      "model_name": "HTMLModel",
      "state": {
       "layout": "IPY_MODEL_9bcf832de66b48cfafd7dcd9f3dd7b62",
       "style": "IPY_MODEL_d196206c42b941968a0b478650e05846",
       "value": "ibmq_jakarta"
      }
     },
     "db92270a6d7c4dcfaba4155defc7fa43": {
      "model_module": "@jupyter-widgets/controls",
      "model_module_version": "1.5.0",
      "model_name": "HTMLModel",
      "state": {
       "layout": "IPY_MODEL_b54c003f450c490db6d017da81d87f54",
       "style": "IPY_MODEL_0a8cc13124a14cee93900e467a8e40fc",
       "value": "<font style='color:#34BC6E'>DONE</font>"
      }
     },
     "e0d08dce305d45c5af319e254c61d1ee": {
      "model_module": "@jupyter-widgets/controls",
      "model_module_version": "1.5.0",
      "model_name": "HTMLModel",
      "state": {
       "layout": "IPY_MODEL_678ad96ef8df4703b3da39494cdea3b8",
       "style": "IPY_MODEL_ee17b90dde94462ca2c60a7675724b99",
       "value": "-"
      }
     },
     "ee17b90dde94462ca2c60a7675724b99": {
      "model_module": "@jupyter-widgets/controls",
      "model_module_version": "1.5.0",
      "model_name": "DescriptionStyleModel",
      "state": {
       "description_width": ""
      }
     },
     "fcb40c06e5254e0c9aaccb7e60152bde": {
      "model_module": "@jupyter-widgets/controls",
      "model_module_version": "1.5.0",
      "model_name": "DescriptionStyleModel",
      "state": {
       "description_width": ""
      }
     }
    },
    "version_major": 2,
    "version_minor": 0
   }
  }
 },
 "nbformat": 4,
 "nbformat_minor": 4
}
